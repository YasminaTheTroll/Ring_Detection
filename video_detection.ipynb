{
 "cells": [
  {
   "cell_type": "code",
   "execution_count": 1,
   "id": "403bddc2-af46-4ec7-8a67-26c9d84749ca",
   "metadata": {},
   "outputs": [],
   "source": [
    "import os\n",
    "import cv2\n",
    "import numpy as np\n",
    "import matplotlib.pyplot as plt\n",
    "import ipywidgets as widgets\n",
    "import detector.detect as detect\n",
    "\n",
    "%matplotlib inline\n",
    "\n",
    "from IPython.display import Image, Video\n",
    "from pathlib import Path"
   ]
  },
  {
   "cell_type": "code",
   "execution_count": 2,
   "id": "a206669f-79ca-47e0-b2a4-cc00b5599285",
   "metadata": {},
   "outputs": [],
   "source": [
    "#read video\n",
    "source = 'ring-video.mp4'\n",
    "cap = cv2.VideoCapture(source)\n",
    "\n",
    "if not cap.isOpened():\n",
    "    print(\"Error opening video stream or file\")"
   ]
  },
  {
   "cell_type": "code",
   "execution_count": 3,
   "id": "09166c43-b2f0-42ee-8d3b-7792b8fa5262",
   "metadata": {},
   "outputs": [],
   "source": [
    "#store frames in array\n",
    "frames = []\n",
    "while cap.isOpened():\n",
    "    ret, frame = cap.read()\n",
    "    \n",
    "    if not ret:\n",
    "        break\n",
    "\n",
    "    frame = cv2.resize(frame, None, fx = 0.3, fy = 0.3)\n",
    "    frames.append(frame)\n",
    "\n",
    "cap.release()"
   ]
  },
  {
   "cell_type": "code",
   "execution_count": 4,
   "id": "b53b3617-b767-4ff8-8168-ebc026d26ea4",
   "metadata": {},
   "outputs": [
    {
     "data": {
      "application/vnd.jupyter.widget-view+json": {
       "model_id": "1d3ffc4abb3845dea77f42141ca5bccd",
       "version_major": 2,
       "version_minor": 0
      },
      "text/plain": [
       "VBox(children=(HBox(children=(IntSlider(value=84, description='frame:', max=113), HBox(children=(IntRangeSlide…"
      ]
     },
     "execution_count": 4,
     "metadata": {},
     "output_type": "execute_result"
    }
   ],
   "source": [
    "#create widgets & displays\n",
    "frameslider = widgets.IntSlider(\n",
    "    value = 84,\n",
    "    min = 0,\n",
    "    max = len(frames) - 1,\n",
    "    description = 'frame:')\n",
    "\n",
    "hue = widgets.IntRangeSlider(\n",
    "    value = [7, 35],\n",
    "    min = 0,\n",
    "    max = 255,\n",
    "    description = 'Hue :')\n",
    "\n",
    "sat = widgets.IntRangeSlider(\n",
    "    value = [65, 255],\n",
    "    min = 0,\n",
    "    max = 255,\n",
    "    description = 'Sat :')\n",
    "\n",
    "val = widgets.IntRangeSlider(\n",
    "    value = [205, 255],\n",
    "    min = 0,\n",
    "    max = 255,\n",
    "    description = 'Val :')\n",
    "\n",
    "\n",
    "\n",
    "def display_frames(frame):\n",
    "    image = frames[frame]\n",
    "    image = cv2.cvtColor(image, cv2.COLOR_BGR2RGB)\n",
    "    plt.imshow(image)\n",
    "\n",
    "def display_processed(frame, hue, sat, val):\n",
    "    image = frames[frame].copy()\n",
    "    matches = detect.detect(image, low = np.array([hue[0], sat[0], val[0]]), high = np.array([hue[1], sat[1], val[1]]))\n",
    "    for m in matches:\n",
    "        image = m.show(image)\n",
    "        #image = Match.show(m, image)\n",
    "\n",
    "    image = cv2.cvtColor(image, cv2.COLOR_BGR2RGB)\n",
    "    plt.imshow(image)\n",
    "        \n",
    "\n",
    "output = widgets.interactive_output(display_frames, {'frame': frameslider})\n",
    "processed_output = widgets.interactive_output(display_processed, {'frame': frameslider, 'hue': hue, 'sat': sat, 'val': val})\n",
    "\n",
    "hsv_values = widgets.HBox([hue, sat, val])\n",
    "displays = widgets.HBox([output, processed_output]) \n",
    "sliders = widgets.HBox([frameslider, hsv_values])\n",
    "widgets.VBox([sliders, displays])\n"
   ]
  },
  {
   "cell_type": "raw",
   "id": "2019c08e-dc63-44f6-a1c6-174d800f7fc4",
   "metadata": {},
   "source": [
    "#84 should be detected, #58 #8 is detected, 202-211 lower value\n",
    "class for detect width, height, One corner point(upper left), partial match(bool)"
   ]
  },
  {
   "cell_type": "code",
   "execution_count": 5,
   "id": "be2a5bac-5e51-45a4-8817-f252bf0ceb8f",
   "metadata": {},
   "outputs": [
    {
     "name": "stdout",
     "output_type": "stream",
     "text": [
      "576 324\n"
     ]
    }
   ],
   "source": [
    "frame_width = frames[0].shape[1]\n",
    "frame_height = frames[0].shape[0]\n",
    "\n",
    "out_mp4 = cv2.VideoWriter(\"detection.mp4\", cv2.VideoWriter_fourcc(*\"mp4v\"), 24, (frame_width, frame_height))\n",
    "\n",
    "for frame in frames:\n",
    "    matches = detect.detect(frame, low = np.array([7, 65, 200]), high = np.array([35, 255, 255]))\n",
    "    frame = frame.copy()\n",
    "    \n",
    "    for m in matches:\n",
    "        frame = m.show(frame)\n",
    "        #image = Match.show(m, image)\n",
    "\n",
    "    #frame = cv2.cvtColor(frame, cv2.COLOR_BGR2RGB)\n",
    "    out_mp4.write(frame)\n",
    "    \n",
    "out_mp4.release()\n",
    "print(frame_width, frame_height)\n",
    "\n",
    "!ffmpeg -y -i \"detection.mp4\" -c:v libx264 \"detection_x264.mp4\"  -hide_banner -loglevel error"
   ]
  },
  {
   "cell_type": "code",
   "execution_count": 6,
   "id": "63486c7d-5548-47f7-9559-23ff6cad450e",
   "metadata": {},
   "outputs": [
    {
     "data": {
      "text/html": [
       "<video src=\"detection_x264.mp4\" controls  >\n",
       "      Your browser does not support the <code>video</code> element.\n",
       "    </video>"
      ],
      "text/plain": [
       "<IPython.core.display.Video object>"
      ]
     },
     "execution_count": 6,
     "metadata": {},
     "output_type": "execute_result"
    }
   ],
   "source": [
    "Video(filename = \"detection_x264.mp4\")"
   ]
  }
 ],
 "metadata": {
  "kernelspec": {
   "display_name": "Python 3 (ipykernel)",
   "language": "python",
   "name": "python3"
  },
  "language_info": {
   "codemirror_mode": {
    "name": "ipython",
    "version": 3
   },
   "file_extension": ".py",
   "mimetype": "text/x-python",
   "name": "python",
   "nbconvert_exporter": "python",
   "pygments_lexer": "ipython3",
   "version": "3.11.6"
  }
 },
 "nbformat": 4,
 "nbformat_minor": 5
}
